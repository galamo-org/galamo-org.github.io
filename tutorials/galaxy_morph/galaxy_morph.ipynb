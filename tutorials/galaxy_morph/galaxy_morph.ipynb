{
 "cells": [
  {
   "cell_type": "markdown",
   "id": "5e2d770d-9493-4489-9b41-1cfb2fa8c287",
   "metadata": {},
   "source": [
    "# galaxy_morph with galamo\n",
    "\n",
    "Welcome to the tutorial on using `galamo`, a Python package designed for comprehensive galaxy analysis.\n",
    "\n",
    "**Abstract**: In this tutorial, we'll explore the `galaxy_morph` module that helps in classifying galaxy types on the basis of photometeric data of the galaxies. `galaxy_morph` works on hybrid model of Convolutional Neural Network (CNN) and Decision Tree.\n",
    "\n",
    "This module is especially useful for astrophysics researchers and students working with galaxy morphology from surveys like SDSS, HST, etc.\n",
    "\n",
    "*Caution: Currently the galaxy_morph module do not work for the some AGN type fo galaxies whose blackhole outshine the whole galaxy.*\n",
    "\n",
    "*Pro Tip: Use galfit for AGNs!*\n",
    "\n",
    "Keywords: `photometery`, `galaxy_morph`\n",
    "\n",
    "**Author:** Jashanpreet Singh Dingra\n",
    "\n",
    "References:\n",
    "- https://data.galaxyzoo.org/gz_trees/gz_trees.html\n",
    "\n",
    "Let’s get started!"
   ]
  },
  {
   "cell_type": "markdown",
   "id": "ca0a1737-b6ce-440a-913d-9c336b80be78",
   "metadata": {},
   "source": [
    "---"
   ]
  },
  {
   "cell_type": "raw",
   "id": "32f7af04-a404-4e29-8df6-c67c61ef8a72",
   "metadata": {},
   "source": [
    "!pip install galamo"
   ]
  },
  {
   "cell_type": "code",
   "execution_count": 3,
   "id": "d6d9b441-9e3f-4254-97c6-dba4f129188a",
   "metadata": {},
   "outputs": [
    {
     "name": "stdout",
     "output_type": "stream",
     "text": [
      "Name: galamo\n",
      "Version: 0.0.8\n",
      "Summary: A Python package for comprehensive galaxy analysis, integrating machine learning and statistical methods. It provides automated tools for morphology classification, kinematics, photometry, and spectral analysis to aid astrophysical research.\n",
      "Home-page: https://www.galamo.org\n",
      "Author: Jashanpreet Singh Dingra\n",
      "Author-email: astrodingra@gmail.com\n",
      "License: \n",
      "Location: /Library/Frameworks/Python.framework/Versions/3.10/lib/python3.10/site-packages\n",
      "Requires: joblib, matplotlib, numpy, opencv-python, requests, tensorflow, termcolor\n",
      "Required-by: \n"
     ]
    }
   ],
   "source": [
    "!pip show galamo #check requirements"
   ]
  },
  {
   "cell_type": "markdown",
   "id": "3984f533-02fe-4c89-b332-3c54ac6539e6",
   "metadata": {},
   "source": [
    "---\n",
    "\n",
    "Note: galaxy_morph is a GPU-accelerated model trained on over 100,000 galaxies from the Galaxy Zoo project.\n",
    "\n",
    "We invite institutions, observatories, and astronomy enthusiasts with telescopes to contribute to this open-source effort by sharing their galaxy images, along with a few key parameters outlined https://galamo.org/galaxy_morph/contribute.\n",
    "\n",
    "If your data is found to be valuable for training or validation, we will gratefully acknowledge your institution or team as a contributor to the galamo project. Your support can help push the boundaries of automated galaxy classification and empower the global astronomy community.\n",
    "\n",
    "---"
   ]
  },
  {
   "cell_type": "code",
   "execution_count": null,
   "id": "a5356bf3-110d-4ddd-9a82-4553cc0d03d7",
   "metadata": {},
   "outputs": [],
   "source": []
  }
 ],
 "metadata": {
  "kernelspec": {
   "display_name": "Python (galamo)",
   "language": "python",
   "name": "galamo-env"
  },
  "language_info": {
   "codemirror_mode": {
    "name": "ipython",
    "version": 3
   },
   "file_extension": ".py",
   "mimetype": "text/x-python",
   "name": "python",
   "nbconvert_exporter": "python",
   "pygments_lexer": "ipython3",
   "version": "3.10.11"
  }
 },
 "nbformat": 4,
 "nbformat_minor": 5
}
